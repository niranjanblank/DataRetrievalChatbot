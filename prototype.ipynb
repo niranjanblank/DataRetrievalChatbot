{
 "cells": [
  {
   "cell_type": "code",
   "execution_count": 1,
   "metadata": {
    "collapsed": true,
    "ExecuteTime": {
     "end_time": "2023-12-22T09:51:27.014929600Z",
     "start_time": "2023-12-22T09:51:27.004703600Z"
    }
   },
   "outputs": [],
   "source": [
    "import os\n",
    "from dotenv import load_dotenv"
   ]
  },
  {
   "cell_type": "code",
   "execution_count": 2,
   "outputs": [
    {
     "data": {
      "text/plain": "True"
     },
     "execution_count": 2,
     "metadata": {},
     "output_type": "execute_result"
    }
   ],
   "source": [
    "load_dotenv()"
   ],
   "metadata": {
    "collapsed": false,
    "ExecuteTime": {
     "end_time": "2023-12-22T09:51:27.030092100Z",
     "start_time": "2023-12-22T09:51:27.014929600Z"
    }
   }
  },
  {
   "cell_type": "code",
   "execution_count": 3,
   "outputs": [],
   "source": [
    "HUGGINGFACEHUB_API_TOKEN = os.getenv('HUGGINGFACEHUB_API_TOKEN')\n",
    "OPENAI_API_KEY=os.getenv('OPENAI_API_KEY')"
   ],
   "metadata": {
    "collapsed": false,
    "ExecuteTime": {
     "end_time": "2023-12-22T09:51:27.075132200Z",
     "start_time": "2023-12-22T09:51:27.030092100Z"
    }
   }
  },
  {
   "cell_type": "code",
   "execution_count": 15,
   "outputs": [],
   "source": [],
   "metadata": {
    "collapsed": false,
    "ExecuteTime": {
     "end_time": "2023-12-22T09:39:48.360757300Z",
     "start_time": "2023-12-22T09:39:48.348756500Z"
    }
   }
  },
  {
   "cell_type": "code",
   "execution_count": 4,
   "outputs": [
    {
     "name": "stderr",
     "output_type": "stream",
     "text": [
      "100%|██████████| 9/9 [00:00<00:00, 8996.36it/s]\n"
     ]
    }
   ],
   "source": [
    "# loader\n",
    "# use the data from documents to create vector store\n",
    "from langchain.document_loaders import DirectoryLoader, TextLoader\n",
    "\n",
    "loader = DirectoryLoader('./data', glob=\"**/*.txt\", loader_cls=TextLoader, show_progress=True)\n",
    "\n",
    "data = loader.load()"
   ],
   "metadata": {
    "collapsed": false,
    "ExecuteTime": {
     "end_time": "2023-12-22T09:51:28.970221900Z",
     "start_time": "2023-12-22T09:51:28.489367600Z"
    }
   }
  },
  {
   "cell_type": "code",
   "execution_count": 6,
   "outputs": [],
   "source": [],
   "metadata": {
    "collapsed": false,
    "ExecuteTime": {
     "end_time": "2023-12-22T09:47:43.827633100Z",
     "start_time": "2023-12-22T09:47:43.814591700Z"
    }
   }
  },
  {
   "cell_type": "code",
   "execution_count": 5,
   "outputs": [],
   "source": [
    "# chunking the data to store in the database\n",
    "from langchain.text_splitter import RecursiveCharacterTextSplitter\n",
    "\n",
    "text_splitter = RecursiveCharacterTextSplitter(\n",
    "    chunk_size=500,\n",
    "    chunk_overlap=100\n",
    ")\n",
    "\n",
    "documents = text_splitter.split_documents(data)"
   ],
   "metadata": {
    "collapsed": false,
    "ExecuteTime": {
     "end_time": "2023-12-22T09:51:30.853085800Z",
     "start_time": "2023-12-22T09:51:30.827221Z"
    }
   }
  },
  {
   "cell_type": "code",
   "execution_count": 6,
   "outputs": [],
   "source": [],
   "metadata": {
    "collapsed": false,
    "ExecuteTime": {
     "end_time": "2023-12-22T09:42:08.506465500Z",
     "start_time": "2023-12-22T09:42:08.494466100Z"
    }
   }
  },
  {
   "cell_type": "code",
   "execution_count": 8,
   "outputs": [
    {
     "data": {
      "text/plain": ".gitattributes:   0%|          | 0.00/1.48k [00:00<?, ?B/s]",
      "application/vnd.jupyter.widget-view+json": {
       "version_major": 2,
       "version_minor": 0,
       "model_id": "4458a40fc5e942ada4f75a833b95df19"
      }
     },
     "metadata": {},
     "output_type": "display_data"
    },
    {
     "data": {
      "text/plain": "1_Pooling/config.json:   0%|          | 0.00/270 [00:00<?, ?B/s]",
      "application/vnd.jupyter.widget-view+json": {
       "version_major": 2,
       "version_minor": 0,
       "model_id": "ffde903dbb7c4eba892f2955b2ab9567"
      }
     },
     "metadata": {},
     "output_type": "display_data"
    },
    {
     "data": {
      "text/plain": "2_Dense/config.json:   0%|          | 0.00/116 [00:00<?, ?B/s]",
      "application/vnd.jupyter.widget-view+json": {
       "version_major": 2,
       "version_minor": 0,
       "model_id": "88952d197d764b9380f1f603a1bf5677"
      }
     },
     "metadata": {},
     "output_type": "display_data"
    },
    {
     "data": {
      "text/plain": "pytorch_model.bin:   0%|          | 0.00/3.15M [00:00<?, ?B/s]",
      "application/vnd.jupyter.widget-view+json": {
       "version_major": 2,
       "version_minor": 0,
       "model_id": "29836be3acaa41be8911a7bfb5f07081"
      }
     },
     "metadata": {},
     "output_type": "display_data"
    },
    {
     "data": {
      "text/plain": "README.md:   0%|          | 0.00/66.3k [00:00<?, ?B/s]",
      "application/vnd.jupyter.widget-view+json": {
       "version_major": 2,
       "version_minor": 0,
       "model_id": "1ab9d3bb15ae4fc5a22618554e307a5e"
      }
     },
     "metadata": {},
     "output_type": "display_data"
    },
    {
     "data": {
      "text/plain": "config.json:   0%|          | 0.00/1.53k [00:00<?, ?B/s]",
      "application/vnd.jupyter.widget-view+json": {
       "version_major": 2,
       "version_minor": 0,
       "model_id": "883b584516fd4d5fb6842b9bc252450a"
      }
     },
     "metadata": {},
     "output_type": "display_data"
    },
    {
     "data": {
      "text/plain": "config_sentence_transformers.json:   0%|          | 0.00/122 [00:00<?, ?B/s]",
      "application/vnd.jupyter.widget-view+json": {
       "version_major": 2,
       "version_minor": 0,
       "model_id": "d3416578ca07442db2f05d61ebabab86"
      }
     },
     "metadata": {},
     "output_type": "display_data"
    },
    {
     "data": {
      "text/plain": "pytorch_model.bin:   0%|          | 0.00/1.34G [00:00<?, ?B/s]",
      "application/vnd.jupyter.widget-view+json": {
       "version_major": 2,
       "version_minor": 0,
       "model_id": "a18b8a5c04a14a41be1b5eac8f3b40a8"
      }
     },
     "metadata": {},
     "output_type": "display_data"
    },
    {
     "data": {
      "text/plain": "sentence_bert_config.json:   0%|          | 0.00/53.0 [00:00<?, ?B/s]",
      "application/vnd.jupyter.widget-view+json": {
       "version_major": 2,
       "version_minor": 0,
       "model_id": "0c486eb3dcc943f5a96a3ff12087b858"
      }
     },
     "metadata": {},
     "output_type": "display_data"
    },
    {
     "data": {
      "text/plain": "special_tokens_map.json:   0%|          | 0.00/2.20k [00:00<?, ?B/s]",
      "application/vnd.jupyter.widget-view+json": {
       "version_major": 2,
       "version_minor": 0,
       "model_id": "d114946778994d9682e4222733cd86b9"
      }
     },
     "metadata": {},
     "output_type": "display_data"
    },
    {
     "data": {
      "text/plain": "spiece.model:   0%|          | 0.00/792k [00:00<?, ?B/s]",
      "application/vnd.jupyter.widget-view+json": {
       "version_major": 2,
       "version_minor": 0,
       "model_id": "2b415ed53e0042659c7c977f4f21b969"
      }
     },
     "metadata": {},
     "output_type": "display_data"
    },
    {
     "data": {
      "text/plain": "tokenizer.json:   0%|          | 0.00/2.42M [00:00<?, ?B/s]",
      "application/vnd.jupyter.widget-view+json": {
       "version_major": 2,
       "version_minor": 0,
       "model_id": "e4ceedc3e6f74d2f9ed80ab7e1faea88"
      }
     },
     "metadata": {},
     "output_type": "display_data"
    },
    {
     "data": {
      "text/plain": "tokenizer_config.json:   0%|          | 0.00/2.41k [00:00<?, ?B/s]",
      "application/vnd.jupyter.widget-view+json": {
       "version_major": 2,
       "version_minor": 0,
       "model_id": "82123124ddb142f69d4ee09b5b0cfa6d"
      }
     },
     "metadata": {},
     "output_type": "display_data"
    },
    {
     "data": {
      "text/plain": "modules.json:   0%|          | 0.00/461 [00:00<?, ?B/s]",
      "application/vnd.jupyter.widget-view+json": {
       "version_major": 2,
       "version_minor": 0,
       "model_id": "ca037ec6d82042ddbf5d828cceb793a2"
      }
     },
     "metadata": {},
     "output_type": "display_data"
    },
    {
     "name": "stdout",
     "output_type": "stream",
     "text": [
      "load INSTRUCTOR_Transformer\n",
      "max_seq_length  512\n"
     ]
    }
   ],
   "source": [
    "# embeddings\n",
    "# from langchain.embeddings import HuggingFaceInstructEmbeddings\n",
    "# embeddings = HuggingFaceInstructEmbeddings(model_name='hkunlp/instructor-large')"
   ],
   "metadata": {
    "collapsed": false,
    "ExecuteTime": {
     "end_time": "2023-12-22T09:45:41.963163500Z",
     "start_time": "2023-12-22T09:43:06.866394Z"
    }
   }
  },
  {
   "cell_type": "code",
   "execution_count": 6,
   "outputs": [],
   "source": [
    "from langchain.embeddings import OpenAIEmbeddings\n",
    "embeddings = OpenAIEmbeddings(openai_api_key=OPENAI_API_KEY)"
   ],
   "metadata": {
    "collapsed": false,
    "ExecuteTime": {
     "end_time": "2023-12-22T09:51:34.631890800Z",
     "start_time": "2023-12-22T09:51:34.270075700Z"
    }
   }
  },
  {
   "cell_type": "code",
   "execution_count": 12,
   "outputs": [],
   "source": [
    "# loading vectors into VectorDB\n",
    "from langchain.vectorstores.faiss import FAISS\n",
    "\n",
    "vectorstore = FAISS.from_documents(documents, embeddings)\n",
    "vectorstore.save_local(\"vectorstore\")"
   ],
   "metadata": {
    "collapsed": false,
    "ExecuteTime": {
     "end_time": "2023-12-22T09:58:10.797082200Z",
     "start_time": "2023-12-22T09:58:09.836873600Z"
    }
   }
  },
  {
   "cell_type": "code",
   "execution_count": 13,
   "outputs": [],
   "source": [
    "# load the vectorstore\n",
    "vectorstore = FAISS.load_local(\"vectorstore\", embeddings)"
   ],
   "metadata": {
    "collapsed": false,
    "ExecuteTime": {
     "end_time": "2023-12-22T09:58:37.967387800Z",
     "start_time": "2023-12-22T09:58:37.957879600Z"
    }
   }
  },
  {
   "cell_type": "code",
   "execution_count": 14,
   "outputs": [],
   "source": [],
   "metadata": {
    "collapsed": false,
    "ExecuteTime": {
     "end_time": "2023-12-22T09:58:43.335791500Z",
     "start_time": "2023-12-22T09:58:43.331792Z"
    }
   }
  },
  {
   "cell_type": "code",
   "execution_count": 20,
   "outputs": [],
   "source": [
    "# Prompt to answer question\n",
    "from langchain.prompts import PromptTemplate\n",
    "\n",
    "prompt_template = \"\"\"You are a helpful assistant for our restaurant that answers the queries of the customer\n",
    "\n",
    "{context}\n",
    "Question: {question}\n",
    "Answer here: \"\"\"\n",
    "\n",
    "PROMPT = PromptTemplate(\n",
    "    template = prompt_template, input_variables=[\"context\",\"question\"]\n",
    ")"
   ],
   "metadata": {
    "collapsed": false,
    "ExecuteTime": {
     "end_time": "2023-12-22T10:08:17.265762900Z",
     "start_time": "2023-12-22T10:08:17.250748Z"
    }
   }
  },
  {
   "cell_type": "code",
   "execution_count": 32,
   "outputs": [],
   "source": [
    "# memory to store chat history\n",
    "from langchain.memory import ConversationBufferMemory\n",
    "memory = ConversationBufferMemory(memory_key=\"chat_history\", return_messages=True, output_key=\"answer\")"
   ],
   "metadata": {
    "collapsed": false,
    "ExecuteTime": {
     "end_time": "2023-12-22T10:16:33.854303100Z",
     "start_time": "2023-12-22T10:16:33.845302600Z"
    }
   }
  },
  {
   "cell_type": "code",
   "execution_count": 33,
   "outputs": [],
   "source": [
    "from langchain.llms import OpenAI\n",
    "from langchain.chains import ConversationalRetrievalChain\n",
    "\n",
    "chain_type = {\"prompt\": PROMPT}\n",
    "llm = OpenAI(openai_api_key=OPENAI_API_KEY)\n",
    "\n",
    "qa_chain = ConversationalRetrievalChain.from_llm(\n",
    "    llm,\n",
    "    memory=memory,\n",
    "    retriever=vectorstore.as_retriever(),\n",
    "    combine_docs_chain_kwargs=chain_type\n",
    ")"
   ],
   "metadata": {
    "collapsed": false,
    "ExecuteTime": {
     "end_time": "2023-12-22T10:16:35.395284800Z",
     "start_time": "2023-12-22T10:16:35.366055100Z"
    }
   }
  },
  {
   "cell_type": "code",
   "execution_count": 44,
   "outputs": [],
   "source": [
    "query=\"How do I complain about the staff?\"\n"
   ],
   "metadata": {
    "collapsed": false,
    "ExecuteTime": {
     "end_time": "2023-12-22T10:19:53.727179400Z",
     "start_time": "2023-12-22T10:19:53.710179900Z"
    }
   }
  },
  {
   "cell_type": "code",
   "execution_count": 45,
   "outputs": [
    {
     "data": {
      "text/plain": "{'question': 'How do I complain about the staff?',\n 'chat_history': [HumanMessage(content='Can you give me information about the restaurant?'),\n  AIMessage(content='\\nSure! Our restaurant is called Gourmet Bistro and we are located at 123 Main Street in Downtown City. We offer a cozy and inviting ambiance, with warm lighting, comfortable seating, and tasteful artwork. Our menu includes a variety of starters, main courses, desserts, and beverages. We also have daily specials and a happy hour from 4 PM to 6 PM. We offer both takeout and delivery services, and we have a parking lot available for customers. We also have an outdoor seating area, and service animals are always welcome. We prioritize providing a great dining experience for our customers and we look forward to serving you.'),\n  HumanMessage(content='Do you have parking or not?'),\n  AIMessage(content=\"\\nYes, we have a parking lot available for customers. Additionally, there's street parking nearby.\"),\n  HumanMessage(content='Any loyalty programs available?'),\n  AIMessage(content=\" Yes, we do have a loyalty program where customers can earn points for every purchase and redeem them for discounts on future meals. It's our way of thanking our loyal customers for their continued support.\"),\n  HumanMessage(content='Summarize the questions I have asked till now and the answers of them'),\n  AIMessage(content='\\n1. Do you host private events or parties? \\n-Yes, please contact us for more information. \\n\\n2. Do you offer catering services? \\n-Yes, please contact us for menu options and pricing. \\n\\n3. What forms of payment do you accept? \\n-We accept cash, debit, and credit cards. \\n\\n4. Is there a service charge or gratuity added to the bill? \\n-There is no service charge for smaller parties, but a 18% gratuity may be added for larger groups. \\n\\n5. Do you offer takeout or delivery? \\n-Yes, we offer both. \\n\\n6. Can I modify my order after placing it? \\n-Please let us know as soon as possible and we will do our best to accommodate. \\n\\n7. Are there any specials or happy hour? \\n-Yes, we have daily specials and a happy hour from 4 PM to 6 PM. \\n\\n8. Is there parking available? \\n-Yes, we have a parking lot and street parking nearby. \\n\\n9. Is outdoor seating available? \\n-Yes, we have an outdoor seating area (depending on weather). \\n\\n10. Are pets allowed in the restaurant? \\n-Service animals are welcome, and pets are allowed'),\n  HumanMessage(content='Where is the restaurant located?'),\n  AIMessage(content='We are located at 123 Main Street, Downtown City. Our restaurant is easily accessible from major roads and public transport.'),\n  HumanMessage(content='How do I complain about the staff?'),\n  AIMessage(content='\\nYes, we value feedback and strive to provide excellent service. If you have any complaints or feedback about our staff, please speak to a manager or contact us through our website or social media platforms. We will address your concerns promptly.')],\n 'answer': '\\nYes, we value feedback and strive to provide excellent service. If you have any complaints or feedback about our staff, please speak to a manager or contact us through our website or social media platforms. We will address your concerns promptly.'}"
     },
     "execution_count": 45,
     "metadata": {},
     "output_type": "execute_result"
    }
   ],
   "source": [
    "qa_chain({\"question\": query})"
   ],
   "metadata": {
    "collapsed": false,
    "ExecuteTime": {
     "end_time": "2023-12-22T10:19:57.818807200Z",
     "start_time": "2023-12-22T10:19:54.120050900Z"
    }
   }
  },
  {
   "cell_type": "code",
   "execution_count": null,
   "outputs": [],
   "source": [],
   "metadata": {
    "collapsed": false
   }
  }
 ],
 "metadata": {
  "kernelspec": {
   "display_name": "Python 3",
   "language": "python",
   "name": "python3"
  },
  "language_info": {
   "codemirror_mode": {
    "name": "ipython",
    "version": 2
   },
   "file_extension": ".py",
   "mimetype": "text/x-python",
   "name": "python",
   "nbconvert_exporter": "python",
   "pygments_lexer": "ipython2",
   "version": "2.7.6"
  }
 },
 "nbformat": 4,
 "nbformat_minor": 0
}
